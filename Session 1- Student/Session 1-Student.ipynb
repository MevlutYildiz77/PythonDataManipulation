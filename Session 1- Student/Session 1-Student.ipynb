{
 "cells": [
  {
   "cell_type": "code",
   "execution_count": 1,
   "id": "52e409f5-e206-4191-b722-88d1d848eb29",
   "metadata": {
    "tags": []
   },
   "outputs": [
    {
     "ename": "ModuleNotFoundError",
     "evalue": "No module named 'pandas'",
     "output_type": "error",
     "traceback": [
      "\u001b[1;31m---------------------------------------------------------------------------\u001b[0m",
      "\u001b[1;31mModuleNotFoundError\u001b[0m                       Traceback (most recent call last)",
      "Cell \u001b[1;32mIn[1], line 1\u001b[0m\n\u001b[1;32m----> 1\u001b[0m \u001b[38;5;28;01mimport\u001b[39;00m \u001b[38;5;21;01mpandas\u001b[39;00m \u001b[38;5;28;01mas\u001b[39;00m \u001b[38;5;21;01mpd\u001b[39;00m\n\u001b[0;32m      2\u001b[0m \u001b[38;5;28;01mimport\u001b[39;00m \u001b[38;5;21;01mnumpy\u001b[39;00m \u001b[38;5;28;01mas\u001b[39;00m \u001b[38;5;21;01mnp\u001b[39;00m\n",
      "\u001b[1;31mModuleNotFoundError\u001b[0m: No module named 'pandas'"
     ]
    }
   ],
   "source": [
    "import pandas as pd\n",
    "import numpy as np"
   ]
  },
  {
   "cell_type": "markdown",
   "id": "aa5af41d-9f37-4171-962e-8a27f4b4938e",
   "metadata": {},
   "source": [
    "### Step 1: Read the csv file as a pandas dataframe"
   ]
  },
  {
   "cell_type": "code",
   "execution_count": 2,
   "id": "54a50d4b",
   "metadata": {},
   "outputs": [
    {
     "ename": "UnicodeDecodeError",
     "evalue": "'utf-8' codec can't decode byte 0xe7 in position 115: invalid continuation byte",
     "output_type": "error",
     "traceback": [
      "\u001b[1;31m---------------------------------------------------------------------------\u001b[0m",
      "\u001b[1;31mUnicodeDecodeError\u001b[0m                        Traceback (most recent call last)",
      "Cell \u001b[1;32mIn[2], line 1\u001b[0m\n\u001b[1;32m----> 1\u001b[0m data \u001b[38;5;241m=\u001b[39m pd\u001b[38;5;241m.\u001b[39mread_csv(\u001b[38;5;124m\"\u001b[39m\u001b[38;5;124mETKİN MALZEME YÖNETİMİ.csv\u001b[39m\u001b[38;5;124m\"\u001b[39m)\n",
      "File \u001b[1;32mc:\\Users\\PC\\anaconda3\\Lib\\site-packages\\pandas\\io\\parsers\\readers.py:912\u001b[0m, in \u001b[0;36mread_csv\u001b[1;34m(filepath_or_buffer, sep, delimiter, header, names, index_col, usecols, dtype, engine, converters, true_values, false_values, skipinitialspace, skiprows, skipfooter, nrows, na_values, keep_default_na, na_filter, verbose, skip_blank_lines, parse_dates, infer_datetime_format, keep_date_col, date_parser, date_format, dayfirst, cache_dates, iterator, chunksize, compression, thousands, decimal, lineterminator, quotechar, quoting, doublequote, escapechar, comment, encoding, encoding_errors, dialect, on_bad_lines, delim_whitespace, low_memory, memory_map, float_precision, storage_options, dtype_backend)\u001b[0m\n\u001b[0;32m    899\u001b[0m kwds_defaults \u001b[38;5;241m=\u001b[39m _refine_defaults_read(\n\u001b[0;32m    900\u001b[0m     dialect,\n\u001b[0;32m    901\u001b[0m     delimiter,\n\u001b[1;32m   (...)\u001b[0m\n\u001b[0;32m    908\u001b[0m     dtype_backend\u001b[38;5;241m=\u001b[39mdtype_backend,\n\u001b[0;32m    909\u001b[0m )\n\u001b[0;32m    910\u001b[0m kwds\u001b[38;5;241m.\u001b[39mupdate(kwds_defaults)\n\u001b[1;32m--> 912\u001b[0m \u001b[38;5;28;01mreturn\u001b[39;00m _read(filepath_or_buffer, kwds)\n",
      "File \u001b[1;32mc:\\Users\\PC\\anaconda3\\Lib\\site-packages\\pandas\\io\\parsers\\readers.py:577\u001b[0m, in \u001b[0;36m_read\u001b[1;34m(filepath_or_buffer, kwds)\u001b[0m\n\u001b[0;32m    574\u001b[0m _validate_names(kwds\u001b[38;5;241m.\u001b[39mget(\u001b[38;5;124m\"\u001b[39m\u001b[38;5;124mnames\u001b[39m\u001b[38;5;124m\"\u001b[39m, \u001b[38;5;28;01mNone\u001b[39;00m))\n\u001b[0;32m    576\u001b[0m \u001b[38;5;66;03m# Create the parser.\u001b[39;00m\n\u001b[1;32m--> 577\u001b[0m parser \u001b[38;5;241m=\u001b[39m TextFileReader(filepath_or_buffer, \u001b[38;5;241m*\u001b[39m\u001b[38;5;241m*\u001b[39mkwds)\n\u001b[0;32m    579\u001b[0m \u001b[38;5;28;01mif\u001b[39;00m chunksize \u001b[38;5;129;01mor\u001b[39;00m iterator:\n\u001b[0;32m    580\u001b[0m     \u001b[38;5;28;01mreturn\u001b[39;00m parser\n",
      "File \u001b[1;32mc:\\Users\\PC\\anaconda3\\Lib\\site-packages\\pandas\\io\\parsers\\readers.py:1407\u001b[0m, in \u001b[0;36mTextFileReader.__init__\u001b[1;34m(self, f, engine, **kwds)\u001b[0m\n\u001b[0;32m   1404\u001b[0m     \u001b[38;5;28mself\u001b[39m\u001b[38;5;241m.\u001b[39moptions[\u001b[38;5;124m\"\u001b[39m\u001b[38;5;124mhas_index_names\u001b[39m\u001b[38;5;124m\"\u001b[39m] \u001b[38;5;241m=\u001b[39m kwds[\u001b[38;5;124m\"\u001b[39m\u001b[38;5;124mhas_index_names\u001b[39m\u001b[38;5;124m\"\u001b[39m]\n\u001b[0;32m   1406\u001b[0m \u001b[38;5;28mself\u001b[39m\u001b[38;5;241m.\u001b[39mhandles: IOHandles \u001b[38;5;241m|\u001b[39m \u001b[38;5;28;01mNone\u001b[39;00m \u001b[38;5;241m=\u001b[39m \u001b[38;5;28;01mNone\u001b[39;00m\n\u001b[1;32m-> 1407\u001b[0m \u001b[38;5;28mself\u001b[39m\u001b[38;5;241m.\u001b[39m_engine \u001b[38;5;241m=\u001b[39m \u001b[38;5;28mself\u001b[39m\u001b[38;5;241m.\u001b[39m_make_engine(f, \u001b[38;5;28mself\u001b[39m\u001b[38;5;241m.\u001b[39mengine)\n",
      "File \u001b[1;32mc:\\Users\\PC\\anaconda3\\Lib\\site-packages\\pandas\\io\\parsers\\readers.py:1679\u001b[0m, in \u001b[0;36mTextFileReader._make_engine\u001b[1;34m(self, f, engine)\u001b[0m\n\u001b[0;32m   1676\u001b[0m     \u001b[38;5;28;01mraise\u001b[39;00m \u001b[38;5;167;01mValueError\u001b[39;00m(msg)\n\u001b[0;32m   1678\u001b[0m \u001b[38;5;28;01mtry\u001b[39;00m:\n\u001b[1;32m-> 1679\u001b[0m     \u001b[38;5;28;01mreturn\u001b[39;00m mapping[engine](f, \u001b[38;5;241m*\u001b[39m\u001b[38;5;241m*\u001b[39m\u001b[38;5;28mself\u001b[39m\u001b[38;5;241m.\u001b[39moptions)\n\u001b[0;32m   1680\u001b[0m \u001b[38;5;28;01mexcept\u001b[39;00m \u001b[38;5;167;01mException\u001b[39;00m:\n\u001b[0;32m   1681\u001b[0m     \u001b[38;5;28;01mif\u001b[39;00m \u001b[38;5;28mself\u001b[39m\u001b[38;5;241m.\u001b[39mhandles \u001b[38;5;129;01mis\u001b[39;00m \u001b[38;5;129;01mnot\u001b[39;00m \u001b[38;5;28;01mNone\u001b[39;00m:\n",
      "File \u001b[1;32mc:\\Users\\PC\\anaconda3\\Lib\\site-packages\\pandas\\io\\parsers\\c_parser_wrapper.py:93\u001b[0m, in \u001b[0;36mCParserWrapper.__init__\u001b[1;34m(self, src, **kwds)\u001b[0m\n\u001b[0;32m     90\u001b[0m \u001b[38;5;28;01mif\u001b[39;00m kwds[\u001b[38;5;124m\"\u001b[39m\u001b[38;5;124mdtype_backend\u001b[39m\u001b[38;5;124m\"\u001b[39m] \u001b[38;5;241m==\u001b[39m \u001b[38;5;124m\"\u001b[39m\u001b[38;5;124mpyarrow\u001b[39m\u001b[38;5;124m\"\u001b[39m:\n\u001b[0;32m     91\u001b[0m     \u001b[38;5;66;03m# Fail here loudly instead of in cython after reading\u001b[39;00m\n\u001b[0;32m     92\u001b[0m     import_optional_dependency(\u001b[38;5;124m\"\u001b[39m\u001b[38;5;124mpyarrow\u001b[39m\u001b[38;5;124m\"\u001b[39m)\n\u001b[1;32m---> 93\u001b[0m \u001b[38;5;28mself\u001b[39m\u001b[38;5;241m.\u001b[39m_reader \u001b[38;5;241m=\u001b[39m parsers\u001b[38;5;241m.\u001b[39mTextReader(src, \u001b[38;5;241m*\u001b[39m\u001b[38;5;241m*\u001b[39mkwds)\n\u001b[0;32m     95\u001b[0m \u001b[38;5;28mself\u001b[39m\u001b[38;5;241m.\u001b[39munnamed_cols \u001b[38;5;241m=\u001b[39m \u001b[38;5;28mself\u001b[39m\u001b[38;5;241m.\u001b[39m_reader\u001b[38;5;241m.\u001b[39munnamed_cols\n\u001b[0;32m     97\u001b[0m \u001b[38;5;66;03m# error: Cannot determine type of 'names'\u001b[39;00m\n",
      "File \u001b[1;32mc:\\Users\\PC\\anaconda3\\Lib\\site-packages\\pandas\\_libs\\parsers.pyx:550\u001b[0m, in \u001b[0;36mpandas._libs.parsers.TextReader.__cinit__\u001b[1;34m()\u001b[0m\n",
      "File \u001b[1;32mc:\\Users\\PC\\anaconda3\\Lib\\site-packages\\pandas\\_libs\\parsers.pyx:639\u001b[0m, in \u001b[0;36mpandas._libs.parsers.TextReader._get_header\u001b[1;34m()\u001b[0m\n",
      "File \u001b[1;32mc:\\Users\\PC\\anaconda3\\Lib\\site-packages\\pandas\\_libs\\parsers.pyx:850\u001b[0m, in \u001b[0;36mpandas._libs.parsers.TextReader._tokenize_rows\u001b[1;34m()\u001b[0m\n",
      "File \u001b[1;32mc:\\Users\\PC\\anaconda3\\Lib\\site-packages\\pandas\\_libs\\parsers.pyx:861\u001b[0m, in \u001b[0;36mpandas._libs.parsers.TextReader._check_tokenize_status\u001b[1;34m()\u001b[0m\n",
      "File \u001b[1;32mc:\\Users\\PC\\anaconda3\\Lib\\site-packages\\pandas\\_libs\\parsers.pyx:2021\u001b[0m, in \u001b[0;36mpandas._libs.parsers.raise_parser_error\u001b[1;34m()\u001b[0m\n",
      "\u001b[1;31mUnicodeDecodeError\u001b[0m: 'utf-8' codec can't decode byte 0xe7 in position 115: invalid continuation byte"
     ]
    }
   ],
   "source": [
    "data = pd.read_csv(\"ETKİN MALZEME YÖNETİMİ.csv\")"
   ]
  },
  {
   "cell_type": "code",
   "execution_count": 19,
   "id": "2431e640",
   "metadata": {},
   "outputs": [
    {
     "ename": "UnicodeDecodeError",
     "evalue": "'utf-8' codec can't decode byte 0xe7 in position 115: invalid continuation byte",
     "output_type": "error",
     "traceback": [
      "\u001b[1;31m---------------------------------------------------------------------------\u001b[0m",
      "\u001b[1;31mUnicodeDecodeError\u001b[0m                        Traceback (most recent call last)",
      "Cell \u001b[1;32mIn[19], line 1\u001b[0m\n\u001b[1;32m----> 1\u001b[0m data \u001b[38;5;241m=\u001b[39m pd\u001b[38;5;241m.\u001b[39mread_csv(\u001b[38;5;124m\"\u001b[39m\u001b[38;5;124mC:/Users/PC/OneDrive/Belgeler/GitHub/PythonDataManipulation/Session 1- Student/ETKİN MALZEME YÖNETİMİ.csv\u001b[39m\u001b[38;5;124m\"\u001b[39m)\n",
      "File \u001b[1;32mc:\\Users\\PC\\anaconda3\\Lib\\site-packages\\pandas\\io\\parsers\\readers.py:912\u001b[0m, in \u001b[0;36mread_csv\u001b[1;34m(filepath_or_buffer, sep, delimiter, header, names, index_col, usecols, dtype, engine, converters, true_values, false_values, skipinitialspace, skiprows, skipfooter, nrows, na_values, keep_default_na, na_filter, verbose, skip_blank_lines, parse_dates, infer_datetime_format, keep_date_col, date_parser, date_format, dayfirst, cache_dates, iterator, chunksize, compression, thousands, decimal, lineterminator, quotechar, quoting, doublequote, escapechar, comment, encoding, encoding_errors, dialect, on_bad_lines, delim_whitespace, low_memory, memory_map, float_precision, storage_options, dtype_backend)\u001b[0m\n\u001b[0;32m    899\u001b[0m kwds_defaults \u001b[38;5;241m=\u001b[39m _refine_defaults_read(\n\u001b[0;32m    900\u001b[0m     dialect,\n\u001b[0;32m    901\u001b[0m     delimiter,\n\u001b[1;32m   (...)\u001b[0m\n\u001b[0;32m    908\u001b[0m     dtype_backend\u001b[38;5;241m=\u001b[39mdtype_backend,\n\u001b[0;32m    909\u001b[0m )\n\u001b[0;32m    910\u001b[0m kwds\u001b[38;5;241m.\u001b[39mupdate(kwds_defaults)\n\u001b[1;32m--> 912\u001b[0m \u001b[38;5;28;01mreturn\u001b[39;00m _read(filepath_or_buffer, kwds)\n",
      "File \u001b[1;32mc:\\Users\\PC\\anaconda3\\Lib\\site-packages\\pandas\\io\\parsers\\readers.py:577\u001b[0m, in \u001b[0;36m_read\u001b[1;34m(filepath_or_buffer, kwds)\u001b[0m\n\u001b[0;32m    574\u001b[0m _validate_names(kwds\u001b[38;5;241m.\u001b[39mget(\u001b[38;5;124m\"\u001b[39m\u001b[38;5;124mnames\u001b[39m\u001b[38;5;124m\"\u001b[39m, \u001b[38;5;28;01mNone\u001b[39;00m))\n\u001b[0;32m    576\u001b[0m \u001b[38;5;66;03m# Create the parser.\u001b[39;00m\n\u001b[1;32m--> 577\u001b[0m parser \u001b[38;5;241m=\u001b[39m TextFileReader(filepath_or_buffer, \u001b[38;5;241m*\u001b[39m\u001b[38;5;241m*\u001b[39mkwds)\n\u001b[0;32m    579\u001b[0m \u001b[38;5;28;01mif\u001b[39;00m chunksize \u001b[38;5;129;01mor\u001b[39;00m iterator:\n\u001b[0;32m    580\u001b[0m     \u001b[38;5;28;01mreturn\u001b[39;00m parser\n",
      "File \u001b[1;32mc:\\Users\\PC\\anaconda3\\Lib\\site-packages\\pandas\\io\\parsers\\readers.py:1407\u001b[0m, in \u001b[0;36mTextFileReader.__init__\u001b[1;34m(self, f, engine, **kwds)\u001b[0m\n\u001b[0;32m   1404\u001b[0m     \u001b[38;5;28mself\u001b[39m\u001b[38;5;241m.\u001b[39moptions[\u001b[38;5;124m\"\u001b[39m\u001b[38;5;124mhas_index_names\u001b[39m\u001b[38;5;124m\"\u001b[39m] \u001b[38;5;241m=\u001b[39m kwds[\u001b[38;5;124m\"\u001b[39m\u001b[38;5;124mhas_index_names\u001b[39m\u001b[38;5;124m\"\u001b[39m]\n\u001b[0;32m   1406\u001b[0m \u001b[38;5;28mself\u001b[39m\u001b[38;5;241m.\u001b[39mhandles: IOHandles \u001b[38;5;241m|\u001b[39m \u001b[38;5;28;01mNone\u001b[39;00m \u001b[38;5;241m=\u001b[39m \u001b[38;5;28;01mNone\u001b[39;00m\n\u001b[1;32m-> 1407\u001b[0m \u001b[38;5;28mself\u001b[39m\u001b[38;5;241m.\u001b[39m_engine \u001b[38;5;241m=\u001b[39m \u001b[38;5;28mself\u001b[39m\u001b[38;5;241m.\u001b[39m_make_engine(f, \u001b[38;5;28mself\u001b[39m\u001b[38;5;241m.\u001b[39mengine)\n",
      "File \u001b[1;32mc:\\Users\\PC\\anaconda3\\Lib\\site-packages\\pandas\\io\\parsers\\readers.py:1679\u001b[0m, in \u001b[0;36mTextFileReader._make_engine\u001b[1;34m(self, f, engine)\u001b[0m\n\u001b[0;32m   1676\u001b[0m     \u001b[38;5;28;01mraise\u001b[39;00m \u001b[38;5;167;01mValueError\u001b[39;00m(msg)\n\u001b[0;32m   1678\u001b[0m \u001b[38;5;28;01mtry\u001b[39;00m:\n\u001b[1;32m-> 1679\u001b[0m     \u001b[38;5;28;01mreturn\u001b[39;00m mapping[engine](f, \u001b[38;5;241m*\u001b[39m\u001b[38;5;241m*\u001b[39m\u001b[38;5;28mself\u001b[39m\u001b[38;5;241m.\u001b[39moptions)\n\u001b[0;32m   1680\u001b[0m \u001b[38;5;28;01mexcept\u001b[39;00m \u001b[38;5;167;01mException\u001b[39;00m:\n\u001b[0;32m   1681\u001b[0m     \u001b[38;5;28;01mif\u001b[39;00m \u001b[38;5;28mself\u001b[39m\u001b[38;5;241m.\u001b[39mhandles \u001b[38;5;129;01mis\u001b[39;00m \u001b[38;5;129;01mnot\u001b[39;00m \u001b[38;5;28;01mNone\u001b[39;00m:\n",
      "File \u001b[1;32mc:\\Users\\PC\\anaconda3\\Lib\\site-packages\\pandas\\io\\parsers\\c_parser_wrapper.py:93\u001b[0m, in \u001b[0;36mCParserWrapper.__init__\u001b[1;34m(self, src, **kwds)\u001b[0m\n\u001b[0;32m     90\u001b[0m \u001b[38;5;28;01mif\u001b[39;00m kwds[\u001b[38;5;124m\"\u001b[39m\u001b[38;5;124mdtype_backend\u001b[39m\u001b[38;5;124m\"\u001b[39m] \u001b[38;5;241m==\u001b[39m \u001b[38;5;124m\"\u001b[39m\u001b[38;5;124mpyarrow\u001b[39m\u001b[38;5;124m\"\u001b[39m:\n\u001b[0;32m     91\u001b[0m     \u001b[38;5;66;03m# Fail here loudly instead of in cython after reading\u001b[39;00m\n\u001b[0;32m     92\u001b[0m     import_optional_dependency(\u001b[38;5;124m\"\u001b[39m\u001b[38;5;124mpyarrow\u001b[39m\u001b[38;5;124m\"\u001b[39m)\n\u001b[1;32m---> 93\u001b[0m \u001b[38;5;28mself\u001b[39m\u001b[38;5;241m.\u001b[39m_reader \u001b[38;5;241m=\u001b[39m parsers\u001b[38;5;241m.\u001b[39mTextReader(src, \u001b[38;5;241m*\u001b[39m\u001b[38;5;241m*\u001b[39mkwds)\n\u001b[0;32m     95\u001b[0m \u001b[38;5;28mself\u001b[39m\u001b[38;5;241m.\u001b[39munnamed_cols \u001b[38;5;241m=\u001b[39m \u001b[38;5;28mself\u001b[39m\u001b[38;5;241m.\u001b[39m_reader\u001b[38;5;241m.\u001b[39munnamed_cols\n\u001b[0;32m     97\u001b[0m \u001b[38;5;66;03m# error: Cannot determine type of 'names'\u001b[39;00m\n",
      "File \u001b[1;32mc:\\Users\\PC\\anaconda3\\Lib\\site-packages\\pandas\\_libs\\parsers.pyx:550\u001b[0m, in \u001b[0;36mpandas._libs.parsers.TextReader.__cinit__\u001b[1;34m()\u001b[0m\n",
      "File \u001b[1;32mc:\\Users\\PC\\anaconda3\\Lib\\site-packages\\pandas\\_libs\\parsers.pyx:639\u001b[0m, in \u001b[0;36mpandas._libs.parsers.TextReader._get_header\u001b[1;34m()\u001b[0m\n",
      "File \u001b[1;32mc:\\Users\\PC\\anaconda3\\Lib\\site-packages\\pandas\\_libs\\parsers.pyx:850\u001b[0m, in \u001b[0;36mpandas._libs.parsers.TextReader._tokenize_rows\u001b[1;34m()\u001b[0m\n",
      "File \u001b[1;32mc:\\Users\\PC\\anaconda3\\Lib\\site-packages\\pandas\\_libs\\parsers.pyx:861\u001b[0m, in \u001b[0;36mpandas._libs.parsers.TextReader._check_tokenize_status\u001b[1;34m()\u001b[0m\n",
      "File \u001b[1;32mc:\\Users\\PC\\anaconda3\\Lib\\site-packages\\pandas\\_libs\\parsers.pyx:2021\u001b[0m, in \u001b[0;36mpandas._libs.parsers.raise_parser_error\u001b[1;34m()\u001b[0m\n",
      "\u001b[1;31mUnicodeDecodeError\u001b[0m: 'utf-8' codec can't decode byte 0xe7 in position 115: invalid continuation byte"
     ]
    }
   ],
   "source": [
    "data = pd.read_csv(\"C:/Users/PC/OneDrive/Belgeler/GitHub/PythonDataManipulation/Session 1- Student/ETKİN MALZEME YÖNETİMİ.csv\")\n"
   ]
  },
  {
   "cell_type": "code",
   "execution_count": 11,
   "id": "c4aed35b",
   "metadata": {},
   "outputs": [
    {
     "data": {
      "text/plain": [
       "<_io.TextIOWrapper name='C:\\\\Users\\\\PC\\\\OneDrive\\\\Belgeler\\\\GitHub\\\\PythonDataManipulation\\\\Session 1- Student\\\\ETKİN MALZEME YÖNETİMİ.csv' mode='r' encoding='utf-8'>"
      ]
     },
     "execution_count": 11,
     "metadata": {},
     "output_type": "execute_result"
    }
   ],
   "source": [
    "df1"
   ]
  },
  {
   "cell_type": "code",
   "execution_count": 3,
   "id": "027179ba-5624-44f7-a2c6-fa269c9e7748",
   "metadata": {
    "tags": []
   },
   "outputs": [
    {
     "data": {
      "text/html": [
       "<div>\n",
       "<style scoped>\n",
       "    .dataframe tbody tr th:only-of-type {\n",
       "        vertical-align: middle;\n",
       "    }\n",
       "\n",
       "    .dataframe tbody tr th {\n",
       "        vertical-align: top;\n",
       "    }\n",
       "\n",
       "    .dataframe thead th {\n",
       "        text-align: right;\n",
       "    }\n",
       "</style>\n",
       "<table border=\"1\" class=\"dataframe\">\n",
       "  <thead>\n",
       "    <tr style=\"text-align: right;\">\n",
       "      <th></th>\n",
       "      <th>A</th>\n",
       "      <th>B</th>\n",
       "      <th>C</th>\n",
       "      <th>D</th>\n",
       "    </tr>\n",
       "  </thead>\n",
       "  <tbody>\n",
       "    <tr>\n",
       "      <th>0</th>\n",
       "      <td>1.0</td>\n",
       "      <td>2.0</td>\n",
       "      <td>3.0</td>\n",
       "      <td>4.0</td>\n",
       "    </tr>\n",
       "    <tr>\n",
       "      <th>1</th>\n",
       "      <td>5.0</td>\n",
       "      <td>6.0</td>\n",
       "      <td>NaN</td>\n",
       "      <td>8.0</td>\n",
       "    </tr>\n",
       "    <tr>\n",
       "      <th>2</th>\n",
       "      <td>10.0</td>\n",
       "      <td>11.0</td>\n",
       "      <td>12.0</td>\n",
       "      <td>NaN</td>\n",
       "    </tr>\n",
       "  </tbody>\n",
       "</table>\n",
       "</div>"
      ],
      "text/plain": [
       "      A     B     C    D\n",
       "0   1.0   2.0   3.0  4.0\n",
       "1   5.0   6.0   NaN  8.0\n",
       "2  10.0  11.0  12.0  NaN"
      ]
     },
     "execution_count": 3,
     "metadata": {},
     "output_type": "execute_result"
    }
   ],
   "source": [
    "df = pd.DataFrame({'A':[1.0,5.0, 10.0],'B': [2.0,6.0,11.0],'C': [3, np.nan, 12.0],'D':[4.0,8.0, np.nan]})\n",
    "\n",
    "df"
   ]
  },
  {
   "cell_type": "markdown",
   "id": "253f0025-f9d9-4a27-9d9d-c8c6c762fdc9",
   "metadata": {},
   "source": [
    "### Step 2: Check the number of missing values for the columns"
   ]
  },
  {
   "cell_type": "code",
   "execution_count": null,
   "id": "5a67ef86-ae8f-46a7-ad40-3a54fbb014e2",
   "metadata": {},
   "outputs": [],
   "source": []
  },
  {
   "cell_type": "markdown",
   "id": "27973e98-56fd-4ba0-ad82-ec0287f888fb",
   "metadata": {},
   "source": [
    "### Step 3: access the underlying NumPy array via the `values` attribute"
   ]
  },
  {
   "cell_type": "code",
   "execution_count": null,
   "id": "90663ff4-1d24-47bd-883d-4c99191e2635",
   "metadata": {},
   "outputs": [],
   "source": []
  },
  {
   "cell_type": "markdown",
   "id": "93814e8d-d76a-40ab-ad66-c685a6f570d9",
   "metadata": {},
   "source": [
    "### Step 4: Remove rows from df that contain missing values"
   ]
  },
  {
   "cell_type": "code",
   "execution_count": null,
   "id": "6d8dcb10-190a-410d-b4c3-c6be36e19f48",
   "metadata": {},
   "outputs": [],
   "source": []
  },
  {
   "cell_type": "markdown",
   "id": "b78b3a8d-99ef-4b65-a11c-45d4c54c8d00",
   "metadata": {},
   "source": [
    "### Step 5: Remove columns from df that contain missing values"
   ]
  },
  {
   "cell_type": "code",
   "execution_count": null,
   "id": "7b0d9a98-643d-4c50-adc8-8d13d8e9c618",
   "metadata": {},
   "outputs": [],
   "source": []
  },
  {
   "cell_type": "markdown",
   "id": "62506dba-211c-44f6-aa6a-df23adbaf459",
   "metadata": {
    "tags": []
   },
   "source": [
    "### Step 6: Only drop rows where all columns are NaN"
   ]
  },
  {
   "cell_type": "code",
   "execution_count": null,
   "id": "b6794bca-3cde-43df-a63e-5adeedd444a6",
   "metadata": {},
   "outputs": [],
   "source": []
  },
  {
   "cell_type": "markdown",
   "id": "a8ce7e3b-59db-4348-8b83-c636303a53b6",
   "metadata": {},
   "source": [
    "### Step 7: Drop rows that have less than 3 real values"
   ]
  },
  {
   "cell_type": "code",
   "execution_count": null,
   "id": "c1f7af5b-856b-4bd1-9602-68922faa53ae",
   "metadata": {},
   "outputs": [],
   "source": []
  },
  {
   "cell_type": "markdown",
   "id": "276152d8-7c00-4a10-b9d6-ecf4a8cd84e4",
   "metadata": {},
   "source": [
    "### Step 8: Only drop rows where NaN appear in specific columns (here: 'C')"
   ]
  },
  {
   "cell_type": "code",
   "execution_count": null,
   "id": "b2e52c06-8b83-442b-91f5-9acc07891cea",
   "metadata": {},
   "outputs": [],
   "source": []
  },
  {
   "cell_type": "markdown",
   "id": "a5eac456-63e4-4273-b36a-963d33d95acd",
   "metadata": {},
   "source": [
    "What Is the Average Height of US Presidents?\n",
    "Use file president_heights.csv, which is a comma-separated list of labels and values"
   ]
  },
  {
   "cell_type": "markdown",
   "id": "424768a9-2e30-436c-888c-45cf07c5b46a",
   "metadata": {
    "tags": []
   },
   "source": [
    "### Step1:\n",
    "Read the data with pandas, turn the 'height(cm)' column into a numpy array. Print the array."
   ]
  },
  {
   "cell_type": "code",
   "execution_count": null,
   "id": "a519a2b5-fab6-40f1-83d4-bd51fdcae816",
   "metadata": {},
   "outputs": [],
   "source": []
  },
  {
   "cell_type": "markdown",
   "id": "8237cd2d-5797-4f6f-9a6d-1112900e44d6",
   "metadata": {
    "tags": []
   },
   "source": [
    "### Step2:\n",
    "- Print the mean of the heights\n",
    "- Print the standard deviatoin of heights\n",
    "- Print the minimum height\n",
    "- Print the maximum height"
   ]
  },
  {
   "cell_type": "code",
   "execution_count": null,
   "id": "a37fec64-9a2f-4b15-80bf-b2d749d5222e",
   "metadata": {},
   "outputs": [],
   "source": []
  },
  {
   "cell_type": "markdown",
   "id": "9171d7d9-a618-4bbb-964c-76e815178455",
   "metadata": {
    "tags": []
   },
   "source": [
    "### Step3:\n",
    "- Print the 25 percentile\n",
    "- Print the median of heights\n",
    "- Print the 75 percentile\n"
   ]
  },
  {
   "cell_type": "code",
   "execution_count": null,
   "id": "f28f8175-605e-424f-b1ad-18160ca9b497",
   "metadata": {},
   "outputs": [],
   "source": []
  },
  {
   "cell_type": "markdown",
   "id": "69871164-248f-4412-80b5-98aa5ecae59a",
   "metadata": {
    "tags": []
   },
   "source": [
    "### Step4:\n",
    "- Create a histogram of the heights\n",
    "- Give a title to the histogram\n",
    "- Give x and y labels\n"
   ]
  },
  {
   "cell_type": "code",
   "execution_count": null,
   "id": "1d9598ea-2b38-4d49-8c33-b2a78cd0609b",
   "metadata": {},
   "outputs": [],
   "source": []
  },
  {
   "cell_type": "markdown",
   "id": "f167f10d-db39-45ea-b3f6-e65bc221a1ee",
   "metadata": {},
   "source": [
    "## Seattle Rainy Days"
   ]
  },
  {
   "cell_type": "markdown",
   "id": "a842bc7c-83da-4305-a246-9aa11980f21b",
   "metadata": {
    "tags": []
   },
   "source": [
    "### Step1:\n",
    "- Read the data with pandas, turn the 'date' column into date format and set the date as the index of the dataset\n",
    "- Select the precipitation column for year 2015 and assign it to a new variable\n",
    "- Create a histogram with title, y and x labels for the precipitation in year 2015. What do you observe?"
   ]
  },
  {
   "cell_type": "code",
   "execution_count": null,
   "id": "40517dd5-2d3c-49be-b4a0-a5e5ef862185",
   "metadata": {},
   "outputs": [],
   "source": []
  },
  {
   "cell_type": "markdown",
   "id": "bc25615f-415a-46a9-b79a-0f8324cf1579",
   "metadata": {
    "tags": []
   },
   "source": [
    "### Step2:\n",
    "- construct a mask of all rainy days\n",
    "- construct a mask of all summer days (June 21st is the 172nd day)\n",
    "- print the median precip on rainy days in 2015\n",
    "- print the median precip on summer days in 2015\n",
    "- print the maximum precip on summer days in 2015\n",
    "- print the median precip on non-summer rainy days"
   ]
  },
  {
   "cell_type": "code",
   "execution_count": null,
   "id": "a2e4a575-a87e-44f1-ae13-0aaa0f2c76b0",
   "metadata": {},
   "outputs": [],
   "source": []
  },
  {
   "cell_type": "markdown",
   "id": "c42e2bce-9953-45cd-9b63-fd422b883a62",
   "metadata": {},
   "source": [
    "### Datetime objects "
   ]
  },
  {
   "cell_type": "code",
   "execution_count": 30,
   "id": "5458bc59-9e0c-4d15-991b-5b7313185613",
   "metadata": {
    "tags": []
   },
   "outputs": [],
   "source": [
    "## Converting Strings to Deatetime objects:"
   ]
  },
  {
   "cell_type": "code",
   "execution_count": null,
   "id": "c323f152-d9da-40f3-a846-1a4cdd326162",
   "metadata": {},
   "outputs": [],
   "source": []
  },
  {
   "cell_type": "code",
   "execution_count": 32,
   "id": "524968a3-b76e-4c3e-a66a-26585956a022",
   "metadata": {
    "tags": []
   },
   "outputs": [],
   "source": [
    "## Extracting Components with datetime"
   ]
  },
  {
   "cell_type": "code",
   "execution_count": null,
   "id": "a1fb2ab0-d257-491d-ac7b-e0c8c46fb34e",
   "metadata": {},
   "outputs": [],
   "source": []
  },
  {
   "cell_type": "code",
   "execution_count": 34,
   "id": "495f874d-55af-4a08-a5e6-27f209197961",
   "metadata": {
    "tags": []
   },
   "outputs": [],
   "source": [
    "## REsampling Time series data"
   ]
  },
  {
   "cell_type": "code",
   "execution_count": null,
   "id": "294e03d4-5369-4a7d-aacc-430415bc8949",
   "metadata": {},
   "outputs": [],
   "source": []
  },
  {
   "cell_type": "code",
   "execution_count": 40,
   "id": "ba59edd2-da77-41bc-9c41-31948fe74b72",
   "metadata": {
    "tags": []
   },
   "outputs": [],
   "source": [
    "## Monthly average sales"
   ]
  },
  {
   "cell_type": "code",
   "execution_count": null,
   "id": "eb328d03-353b-4435-82ce-ac7dfa6afcfe",
   "metadata": {},
   "outputs": [],
   "source": []
  },
  {
   "cell_type": "markdown",
   "id": "5f412f19-e3b9-4507-ae44-3f26cec0bd72",
   "metadata": {},
   "source": [
    "**Q1 Empty Neighborhoods**\n",
    "We’re given two tables, a users table with demographic information and the neighborhood they live in and a neighborhoods table.\n",
    "\n",
    "Write a query that returns all neighborhoods that have 0 users. "
   ]
  },
  {
   "cell_type": "code",
   "execution_count": null,
   "id": "874005fc-3b33-4964-8b4a-49ca0c318ace",
   "metadata": {},
   "outputs": [],
   "source": []
  },
  {
   "cell_type": "code",
   "execution_count": null,
   "id": "473d24c6-b1ab-4d23-8f39-baf135a53215",
   "metadata": {},
   "outputs": [],
   "source": []
  },
  {
   "cell_type": "markdown",
   "id": "72f748f6-b9d6-4566-9ca2-be6cdebbe0ce",
   "metadata": {},
   "source": [
    "**Q2** Given a table of bank transactions with columns id, transaction_value, and created_at representing the date and time for each transaction, write a query to get the last transaction for each day.\n",
    "\n",
    "The output should include the id of the transaction, datetime of the transaction, and the transaction amount. Order the transactions by datetime.\n",
    "\n",
    "Example:\n",
    "\n",
    "Input:\n",
    "\n",
    "bank_transactions table\n",
    "\n",
    "| Column      | Type |\n",
    "| ----------- | ----------- |\n",
    "| id      | INTEGER       |\n",
    "| created_at   | DATETIME      |\n",
    "|transaction_value|FLOAT|\n",
    "\n",
    "\n",
    "Output:\n",
    "\n",
    "| Column      | Type |\n",
    "| ----------- | ----------- |\n",
    "| created_at   | DATETIME      |\n",
    "|transaction_value|FLOAT|\n",
    "| id      | INTEGER       |\n",
    "\n"
   ]
  },
  {
   "cell_type": "code",
   "execution_count": null,
   "id": "6a490882-8a4e-4711-9f2e-b153c0d4d3cc",
   "metadata": {},
   "outputs": [],
   "source": []
  },
  {
   "cell_type": "markdown",
   "id": "d35daa48-e95a-48fc-98d8-020fb46f487e",
   "metadata": {},
   "source": [
    "**Q3** Given three tables, representing customer transactions and customer attributes:\n",
    "\n",
    "Write a query to get the average order value by gender.\n",
    "\n",
    "Note: We’re looking at the average order value by users that have ever placed an order. Additionally, please round your answer to two decimal places.\n",
    "\n",
    "Example:\n",
    "\n",
    "Input:\n",
    "\n",
    "transactions table\n",
    "\n",
    "| Column      | Type |\n",
    "| ----------- | ----------- |\n",
    "| id      | INTEGER       |\n",
    "|user_id|INTEGER|\n",
    "| created_at   | DATETIME   |\n",
    "|product_id|INTEGER|\n",
    "|quantity|INTEGER|\n",
    "\n",
    "\n",
    "users2 table\n",
    "\n",
    "| Column      | Type |\n",
    "| ----------- | ----------- |\n",
    "| id      | INTEGER       |\n",
    "|name|VARCHAR|\n",
    "|sex|VARCHAR|\n",
    "\n",
    "products table\n",
    "\n",
    "| Column      | Type |\n",
    "| ----------- | ----------- |\n",
    "| id      | INTEGER       |\n",
    "|name|VARCHAR|\n",
    "|price|FLOAT|\n",
    "\n",
    "Output:\n",
    "\n",
    "| Column      | Type |\n",
    "| ----------- | ----------- |\n",
    "|sex|VARCHAR|\n",
    "|aov|FLOAT|\n"
   ]
  },
  {
   "cell_type": "code",
   "execution_count": null,
   "id": "dbd0c70a-9908-497b-8b09-f25b88076187",
   "metadata": {},
   "outputs": [],
   "source": []
  },
  {
   "cell_type": "markdown",
   "id": "ac94ca6d-2a87-4640-b5d3-268b12b74268",
   "metadata": {},
   "source": [
    "**Q5: Acceptance Rate**: We’re given two tables. friend_requests holds all the friend requests made and friend_accepts is all of the acceptances.\n",
    "\n",
    "Write a query to find the overall acceptance rate of friend requests. Note: Round results to 4 decimal places."
   ]
  },
  {
   "cell_type": "markdown",
   "id": "ddb2159c-9258-4f86-bcf7-c827b83aa6b4",
   "metadata": {},
   "source": [
    "Example:\n",
    "\n",
    "Input:\n",
    "\n",
    "friend_requests table\n",
    "\n",
    "| Column      | Type |\n",
    "| ----------- | ----------- |\n",
    "| requester_id|INTEGER|\n",
    "|requested_id|INTEGER|\n",
    "|created_at|DATETIME|\n",
    "\n",
    "\n",
    "friend_accepts table\n",
    "\n",
    "| Column      | Type |\n",
    "| ----------- | ----------- |\n",
    "| acceptor_id|INTEGER|\n",
    "|requester_id|INTEGER|\n",
    "|created_at|DATETIME|\n",
    "\n",
    "\n",
    "Output:\n",
    "\n",
    "| Column      | Type |\n",
    "| ----------- | ----------- |\n",
    "| acceptance_rate   | FLOAT     |\n",
    "\n",
    "\n"
   ]
  },
  {
   "cell_type": "code",
   "execution_count": null,
   "id": "97926e2d-5040-4fbe-84ce-ba24a40b2944",
   "metadata": {},
   "outputs": [],
   "source": []
  }
 ],
 "metadata": {
  "kernelspec": {
   "display_name": "Python 3 (ipykernel)",
   "language": "python",
   "name": "python3"
  },
  "language_info": {
   "codemirror_mode": {
    "name": "ipython",
    "version": 3
   },
   "file_extension": ".py",
   "mimetype": "text/x-python",
   "name": "python",
   "nbconvert_exporter": "python",
   "pygments_lexer": "ipython3",
   "version": "3.11.5"
  }
 },
 "nbformat": 4,
 "nbformat_minor": 5
}
